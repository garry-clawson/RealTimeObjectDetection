{
 "cells": [
  {
   "cell_type": "code",
   "execution_count": 1,
   "id": "ac0b1292",
   "metadata": {},
   "outputs": [],
   "source": [
    "# Garry Clawson\n",
    "# 19th Feb 2022\n",
    "# Sign Language using OpenCV\n",
    "# Just working through this awesome video tutorial to try it for myself\n",
    "# https://www.youtube.com/watch?v=pDXdlXlaCco "
   ]
  },
  {
   "cell_type": "code",
   "execution_count": 1,
   "id": "ba93fcc2",
   "metadata": {},
   "outputs": [],
   "source": [
    "# Import dependencies\n",
    "import cv2 #opencv\n",
    "import time #gives us some time between each sign language item\n",
    "import uuid\n",
    "import os #helps with filepaths\n"
   ]
  },
  {
   "cell_type": "code",
   "execution_count": 2,
   "id": "8e501e14",
   "metadata": {},
   "outputs": [],
   "source": [
    "IMAGES_PATH = 'Tensorflow/workspace/images/collectedimages/'\n",
    "!mkdir {IMAGES_PATH}\n",
    "\n",
    "labels = ['hello', 'thanks', 'yes', 'no', 'iloveyou']\n",
    "number_imgs = 15 #13 for training and 2 per class for testing"
   ]
  },
  {
   "cell_type": "code",
   "execution_count": 3,
   "id": "0c7f9d67",
   "metadata": {},
   "outputs": [
    {
     "name": "stdout",
     "output_type": "stream",
     "text": [
      "Collecting images for hello\n",
      "Collecting images for thanks\n",
      "Collecting images for yes\n",
      "Collecting images for no\n",
      "Collecting images for iloveyou\n"
     ]
    }
   ],
   "source": [
    "for label in labels:\n",
    "    !mkdir {'Tensorflow/workspace/images/collectedimages//'+label}\n",
    "    cap = cv2.VideoCapture(0)\n",
    "    print(\"Collecting images for {}\".format(label))\n",
    "    time.sleep(5)\n",
    "    for imgnum in range(number_imgs):\n",
    "        ret, frame = cap.read()\n",
    "        imgname = os.path.join(IMAGES_PATH, label, label+'.'+'{}.jpg'.format(str(uuid.uuid1())))\n",
    "        cv2.imwrite(imgname, frame)\n",
    "        cv2.imshow('frame', frame)\n",
    "        time.sleep(2)\n",
    "        \n",
    "        if cv2.waitKey(1) and 0xFF == ord('q'):\n",
    "            break\n",
    "    cap.release()\n"
   ]
  },
  {
   "cell_type": "code",
   "execution_count": null,
   "id": "a4f0b6bb",
   "metadata": {},
   "outputs": [],
   "source": []
  }
 ],
 "metadata": {
  "kernelspec": {
   "display_name": "Python 3 (ipykernel)",
   "language": "python",
   "name": "python3"
  },
  "language_info": {
   "codemirror_mode": {
    "name": "ipython",
    "version": 3
   },
   "file_extension": ".py",
   "mimetype": "text/x-python",
   "name": "python",
   "nbconvert_exporter": "python",
   "pygments_lexer": "ipython3",
   "version": "3.10.0"
  }
 },
 "nbformat": 4,
 "nbformat_minor": 5
}
