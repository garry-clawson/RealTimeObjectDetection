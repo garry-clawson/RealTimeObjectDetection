{
 "cells": [
  {
   "cell_type": "code",
   "execution_count": 1,
   "id": "ac0b1292",
   "metadata": {},
   "outputs": [],
   "source": [
    "# Garry Clawson\n",
    "# 19th Feb 2022\n",
    "# Sign Language using OpenCV\n",
    "# Just working thourgh this awesome video tutorila to try it for myself\n",
    "# https://www.youtube.com/watch?v=pDXdlXlaCco "
   ]
  },
  {
   "cell_type": "code",
   "execution_count": null,
   "id": "ba93fcc2",
   "metadata": {},
   "outputs": [],
   "source": []
  }
 ],
 "metadata": {
  "kernelspec": {
   "display_name": "Python 3 (ipykernel)",
   "language": "python",
   "name": "python3"
  },
  "language_info": {
   "codemirror_mode": {
    "name": "ipython",
    "version": 3
   },
   "file_extension": ".py",
   "mimetype": "text/x-python",
   "name": "python",
   "nbconvert_exporter": "python",
   "pygments_lexer": "ipython3",
   "version": "3.10.0"
  }
 },
 "nbformat": 4,
 "nbformat_minor": 5
}
